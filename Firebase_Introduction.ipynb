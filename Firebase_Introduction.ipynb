{
  "nbformat": 4,
  "nbformat_minor": 0,
  "metadata": {
    "colab": {
      "name": "Firebase_Introduction.ipynb",
      "provenance": [],
      "authorship_tag": "ABX9TyNpgwOhqoQo1uGmot/zvN2f"
    },
    "kernelspec": {
      "name": "python3",
      "display_name": "Python 3"
    },
    "language_info": {
      "name": "python"
    }
  },
  "cells": [
    {
      "cell_type": "markdown",
      "metadata": {
        "id": "pUMP_vuH-Tc9"
      },
      "source": [
        "# READ AND WRITE USING FIRE-BASE\n",
        "\n",
        "## FireBase:\n",
        "\n",
        "- Firebase is a database provided on google sever. It is mainly used to store data in the google sever.\n",
        "- Refer https://firebase.google.com/docs/firestore?authuser=0 .\n",
        "- The Firebase Realtime Database is a cloud-hosted NoSQL database that lets you store and sync data between your users in realtime.\n",
        "- Firebase Hosting works out-of-the-box with Firebase services, including Cloud Functions, Authentication, Realtime Database, Cloud Firestore, and Cloud Messaging. You can build powerful microservices and web apps using these complimentary Firebase services.\n",
        "    "
      ]
    },
    {
      "cell_type": "markdown",
      "metadata": {
        "id": "oacJyrkxANI0"
      },
      "source": [
        "![database-2.png](data:image/png;base64,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)"
      ]
    },
    {
      "cell_type": "markdown",
      "metadata": {
        "id": "P6V7vid7-lYb"
      },
      "source": [
        "## Requirements:\n",
        "\n",
        "- Install firebase from pypi.org This library contains many usefully libraries which is used to connect our python program to firebase, etc.\n",
        "- `!pip install firebase`"
      ]
    },
    {
      "cell_type": "markdown",
      "metadata": {
        "id": "n_9kUjps-n1b"
      },
      "source": [
        "## Firebase Database:\n",
        "\n",
        "### Problem statement: \n",
        "\n",
        "- Let’s **CRUD (Create Read Update Delete)** to a real-time Database server like Firebase."
      ]
    },
    {
      "cell_type": "markdown",
      "metadata": {
        "id": "q25DcBGQ-6pP"
      },
      "source": [
        "### Solving Steps:\n",
        "\n",
        "- The first step is to import the necessary packages.\n",
        "\n",
        "  - `**import firebase_admin**`\n",
        "  - `**from firebase_admin import credentials**`\n",
        "  - `**from firebase_admin import firestore**`"
      ]
    },
    {
      "cell_type": "markdown",
      "metadata": {
        "id": "2JBAQR-E_Lug"
      },
      "source": [
        "- Create an account in firebase and create a project inside it."
      ]
    },
    {
      "cell_type": "markdown",
      "metadata": {
        "id": "jGrKK-YW_SG7"
      },
      "source": [
        "- Then pass the credentials of your firebase in `credentials.Certificate()` and pass the `credentials()` variable in `initialize()` to connect your python program to your firebase account. Then create the variable to access the firebase account.\n",
        "\n",
        "  - `**cred = credentials.Certificate(\\\"python-demo-testing-firebase-adminsdk-uarq8-8b119e9481.json\\\")**`\n",
        "  - `**firebase_admin.initialize_app(cred)**`\n",
        "  - `**db = firestore.client()**`"
      ]
    },
    {
      "cell_type": "markdown",
      "metadata": {
        "id": "mzC4OHzZ_ex-"
      },
      "source": [
        "- Now to upload data in the firebase. Create a collection for saving the data in the collections. Then create a dictionary to which needs to be uploaded in the firebase collection using `set()`.\n",
        "\n",
        "  - `**doc_ref = db.collection(u'Collection Name').document()**`\n",
        "  - `**dit = {\\\"firstName\\\":”Harry”,\\\"lastName\\\":”Potter”,”age”:18}**`\n",
        "  - `**doc_ref.set(dit)**`"
      ]
    },
    {
      "cell_type": "markdown",
      "metadata": {
        "id": "GQd-q0zW_oAR"
      },
      "source": [
        "- You can also read data from the database. Using `**.stream()**` on the `collection()` you can able to get the data from the firebase store it inside a variable. Iterate through the variable to get each element in the data.\n",
        "\n",
        "  - `**docs = db.collection(u'Collection Name').stream()**`\n",
        "  - `**for doc in docs:**`\n",
        "  - `**print(\\\"ID - \\\", doc.id)**`\n",
        "  - `**print(\\\"First Name - \\\", doc.to_dict().get(\\\"firstName\\\"))**`\n",
        "  - `**print(\\\"Last Name - \\\", doc.to_dict().get(\\\"lastName\\\"))**`\n",
        "  - `**print(\\\"Age - \\\", doc.to_dict().get(\\\"age\\\") )**`"
      ]
    },
    {
      "cell_type": "markdown",
      "metadata": {
        "id": "GnG2rN86_xgE"
      },
      "source": [
        "- Now the third operation is to update existing data. This can be done by using the data-id and pass it in `documents()` on the `collection()`. Then pass a dictionary which contains the elements to be updated in `update()`.\n",
        "\n",
        "  - `**doc_ref = db.collection(u'Collection Name').document(uid)**`\n",
        "  - `**doc_ref.update({\\\"age\\\":updatedAge})**`"
      ]
    },
    {
      "cell_type": "markdown",
      "metadata": {
        "id": "cYBb-YZkACDK"
      },
      "source": [
        "- Finally to delete a collection Use `delete()` with the `document(ID)` inside the collection.\n",
        "\n",
        "  - `**db.collection(u'Collection Name').document(ID).delete()**`"
      ]
    }
  ]
}